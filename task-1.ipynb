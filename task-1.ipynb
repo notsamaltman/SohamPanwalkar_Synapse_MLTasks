{
 "cells": [
  {
   "cell_type": "code",
   "execution_count": 5,
   "id": "2c6f802f",
   "metadata": {},
   "outputs": [],
   "source": [
    "pokedex = {\n",
    "\"Pikachu\": (\"Electric\",),\n",
    "\"Charizard\": (\"Fire\", \"Flying\"),\n",
    "\"Lapras\": (\"Water\", \"Ice\"),\n",
    "\"Machamp\": (\"Fighting\",),\n",
    "\"Mewtwo\": (\"Psychic\", \"Fighting\"),\n",
    "\"Hoopa\": (\"Psychic\", \"Ghost\", \"Dark\"),\n",
    "\"Lugia\": (\"Psychic\", \"Flying\", \"Water\"),\n",
    "\"Squirtle\": (\"Water\",),\n",
    "\"Gengar\": (\"Ghost\", \"Poison\"),\n",
    "\"Onix\": (\"Rock\", \"Ground\")\n",
    "}"
   ]
  },
  {
   "cell_type": "code",
   "execution_count": 6,
   "id": "66ee1e4a",
   "metadata": {},
   "outputs": [
    {
     "name": "stdout",
     "output_type": "stream",
     "text": [
      "Max unique types = 5\n",
      "Squad: ('Charizard', 'Hoopa'), Types: {'Fire', 'Psychic', 'Flying', 'Dark', 'Ghost'}\n",
      "Squad: ('Lapras', 'Hoopa'), Types: {'Ice', 'Psychic', 'Dark', 'Water', 'Ghost'}\n",
      "Squad: ('Hoopa', 'Lugia'), Types: {'Psychic', 'Flying', 'Dark', 'Water', 'Ghost'}\n",
      "Squad: ('Hoopa', 'Onix'), Types: {'Psychic', 'Dark', 'Ground', 'Ghost', 'Rock'}\n",
      "Squad: ('Lugia', 'Gengar'), Types: {'Psychic', 'Flying', 'Water', 'Poison', 'Ghost'}\n",
      "Squad: ('Lugia', 'Onix'), Types: {'Psychic', 'Flying', 'Water', 'Ground', 'Rock'}\n"
     ]
    }
   ],
   "source": [
    "def generate_combinations(pokemons, k, start=0, current=None, result=None):\n",
    "    if current is None: current = []\n",
    "    if result is None: result = []\n",
    "\n",
    "    if len(current) == k:\n",
    "        result.append(tuple(current))\n",
    "        return\n",
    "\n",
    "    for i in range(start, len(pokemons)):\n",
    "        generate_combinations(pokemons, k, i+1, current + [pokemons[i]], result)\n",
    "    \n",
    "    return result\n",
    "\n",
    "def strongest_team(pokedex, k):\n",
    "    pokemons = list(pokedex.keys())\n",
    "    all_squads = generate_combinations(pokemons, k)\n",
    "\n",
    "    max_types = 0\n",
    "    strongest_teams = []\n",
    "\n",
    "    for squad in all_squads:\n",
    "        types = set()\n",
    "        for pokemon in squad:\n",
    "            types.update(pokedex[pokemon])\n",
    "        \n",
    "        if len(types) > max_types:\n",
    "            max_types = len(types)\n",
    "            strongest_teams = [(squad, types)]\n",
    "        elif len(types) == max_types:\n",
    "            strongest_teams.append((squad, types))\n",
    "    \n",
    "    return strongest_teams, max_types\n",
    "\n",
    "k = 2\n",
    "teams, max_types = strongest_team(pokedex, k)\n",
    "\n",
    "print(f\"Max unique types = {max_types}\")\n",
    "for squad, types in teams:\n",
    "    print(f\"Squad: {squad}, Types: {types}\")\n"
   ]
  },
  {
   "cell_type": "code",
   "execution_count": null,
   "id": "f3d02526",
   "metadata": {},
   "outputs": [],
   "source": []
  }
 ],
 "metadata": {
  "kernelspec": {
   "display_name": "Python 3",
   "language": "python",
   "name": "python3"
  },
  "language_info": {
   "codemirror_mode": {
    "name": "ipython",
    "version": 3
   },
   "file_extension": ".py",
   "mimetype": "text/x-python",
   "name": "python",
   "nbconvert_exporter": "python",
   "pygments_lexer": "ipython3",
   "version": "3.13.5"
  }
 },
 "nbformat": 4,
 "nbformat_minor": 5
}
