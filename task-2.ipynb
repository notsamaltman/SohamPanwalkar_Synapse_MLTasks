{
 "cells": [
  {
   "cell_type": "code",
   "execution_count": null,
   "id": "852c3c52",
   "metadata": {},
   "outputs": [],
   "source": [
    "def earliest_lumos(runes):\n",
    "    need = set(\"LUMOS\")\n",
    "    have = set()\n",
    "    step = 0  \n",
    "\n",
    "    for ch in runes:\n",
    "        step += 1\n",
    "        c = ch.upper()\n",
    "        if c in need:\n",
    "            have.add(c)\n",
    "            if len(have) == 5:  \n",
    "                return step\n",
    "    return -1"
   ]
  }
 ],
 "metadata": {
  "language_info": {
   "name": "python"
  }
 },
 "nbformat": 4,
 "nbformat_minor": 5
}
