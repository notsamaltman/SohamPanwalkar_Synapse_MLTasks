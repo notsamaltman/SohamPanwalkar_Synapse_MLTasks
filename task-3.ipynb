{
 "cells": [
  {
   "cell_type": "code",
   "execution_count": 17,
   "id": "3f6f422c",
   "metadata": {},
   "outputs": [],
   "source": [
    "region = [\n",
    "[1,0,0,0,1],\n",
    "[1,0,1,1,1],\n",
    "[1,1,0,1,1],\n",
    "[1,0,1,1,0],\n",
    "[0,1,0,1,1]\n",
    "]"
   ]
  },
  {
   "cell_type": "code",
   "execution_count": 18,
   "id": "ea9fef26",
   "metadata": {},
   "outputs": [],
   "source": [
    "def printIslands():\n",
    "    for j in range(len(region)):\n",
    "        for i in range(len(region[0])):\n",
    "            print(region[j][i], end=\" \")\n",
    "        print(\"\")\n",
    "\n",
    "def maxDestruction(region, m):\n",
    "    n = len(region)\n",
    "    iterstart = m // 2  \n",
    "    destruction = -1\n",
    "    maxdestrct = None\n",
    "\n",
    "    for j in range(iterstart, n - iterstart):\n",
    "        for i in range(iterstart, len(region[0]) - iterstart):\n",
    "            crrntdestruction = 0\n",
    "\n",
    "            for y in range(j - iterstart, j + iterstart + 1):\n",
    "                for x in range(i - iterstart, i + iterstart + 1):\n",
    "                    if region[y][x] == 1:\n",
    "                        crrntdestruction += 1\n",
    "\n",
    "            if crrntdestruction > destruction:\n",
    "                destruction = crrntdestruction\n",
    "                maxdestrct = (i, j)  \n",
    "    \n",
    "    return maxdestrct, destruction"
   ]
  },
  {
   "cell_type": "code",
   "execution_count": null,
   "id": "f5fe440b",
   "metadata": {},
   "outputs": [],
   "source": []
  }
 ],
 "metadata": {
  "kernelspec": {
   "display_name": "Python 3",
   "language": "python",
   "name": "python3"
  },
  "language_info": {
   "codemirror_mode": {
    "name": "ipython",
    "version": 3
   },
   "file_extension": ".py",
   "mimetype": "text/x-python",
   "name": "python",
   "nbconvert_exporter": "python",
   "pygments_lexer": "ipython3",
   "version": "3.13.5"
  }
 },
 "nbformat": 4,
 "nbformat_minor": 5
}
